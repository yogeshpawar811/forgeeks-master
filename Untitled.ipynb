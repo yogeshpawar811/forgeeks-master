{
 "cells": [
  {
   "cell_type": "code",
   "execution_count": 4,
   "metadata": {},
   "outputs": [
    {
     "name": "stdout",
     "output_type": "stream",
     "text": [
      "Google 1\n",
      "Facebook 2\n",
      "Microsoft 2\n",
      "GFG 1\n",
      "Youtube 3\n"
     ]
    }
   ],
   "source": [
    "dictionary1 = {'Google': 1,\n",
    "'Facebook': 2,\n",
    "'Microsoft': 3\n",
    "}\n",
    "dictionary2 = {'GFG': 1,\n",
    "'Microsoft': 2,\n",
    "'Youtube': 3\n",
    "}\n",
    "\n",
    "dictionary1.update(dictionary2);\n",
    "for key, values in dictionary1.items():\n",
    "    print(key, values)"
   ]
  },
  {
   "cell_type": "code",
   "execution_count": 7,
   "metadata": {},
   "outputs": [
    {
     "name": "stdout",
     "output_type": "stream",
     "text": [
      "GeeksforGeeksGeeks"
     ]
    }
   ],
   "source": [
    "value = [1, 2, 3, 4, 5]\n",
    "try:\n",
    "    value = value[5]/0\n",
    "except (IndexError, ZeroDivisionError):\n",
    "\n",
    "    print(\"GeeksforGeeks\", end =\"\")\n",
    "else:\n",
    "    print(\"GFG\", end = \"\")\n",
    "finally:\n",
    "    print(\"Geeks\", end =\"\")"
   ]
  },
  {
   "cell_type": "code",
   "execution_count": 12,
   "metadata": {},
   "outputs": [
    {
     "ename": "SyntaxError",
     "evalue": "invalid character in identifier (<ipython-input-12-2241197392fd>, line 5)",
     "output_type": "error",
     "traceback": [
      "\u001b[1;36m  File \u001b[1;32m\"<ipython-input-12-2241197392fd>\"\u001b[1;36m, line \u001b[1;32m5\u001b[0m\n\u001b[1;33m    \u001b[0m\n\u001b[1;37m    ^\u001b[0m\n\u001b[1;31mSyntaxError\u001b[0m\u001b[1;31m:\u001b[0m invalid character in identifier\n"
     ]
    }
   ],
   "source": [
    "\n",
    "class A:\n",
    "    def __init__():\n",
    "        i = 1\n",
    "        j = 5\n",
    " \n",
    "    def display():\n",
    "        print(i,j)\n",
    "class B(A):\n",
    "    def __init__():\n",
    "        super().__init__()\n",
    "        i = 2\n",
    "        j = 7\n",
    "c = B()\n",
    "c.display()"
   ]
  },
  {
   "cell_type": "code",
   "execution_count": null,
   "metadata": {},
   "outputs": [],
   "source": []
  },
  {
   "cell_type": "code",
   "execution_count": null,
   "metadata": {},
   "outputs": [],
   "source": []
  }
 ],
 "metadata": {
  "kernelspec": {
   "display_name": "Python 3",
   "language": "python",
   "name": "python3"
  },
  "language_info": {
   "codemirror_mode": {
    "name": "ipython",
    "version": 3
   },
   "file_extension": ".py",
   "mimetype": "text/x-python",
   "name": "python",
   "nbconvert_exporter": "python",
   "pygments_lexer": "ipython3",
   "version": "3.7.4"
  }
 },
 "nbformat": 4,
 "nbformat_minor": 4
}
